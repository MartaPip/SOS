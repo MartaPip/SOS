{
 "cells": [
  {
   "cell_type": "markdown",
   "id": "27b42d72-ef41-4d7f-9c2c-6be98e93d3b3",
   "metadata": {},
   "source": [
    "TO DO:\n",
    "    - generate numbers \n",
    "    -think aboout visualization\n",
    "    -chanke how random chosen based on data\n",
    "    -release time zero\n",
    "    \n",
    "  \n",
    "THINK ABOUT:\n",
    "   -rigth time step to check\n",
    "   -Make the algorithm go on parallel or one after the other\n",
    "   -Note: DSOS: load at the moment--> yes otherwise eliminated from list\n",
    "   -what happen if expected tìprocessing time=0"
   ]
  },
  {
   "cell_type": "code",
   "execution_count": 1,
   "id": "467b38b5-3388-4880-b889-fe5592fa9cc1",
   "metadata": {},
   "outputs": [],
   "source": [
    "import pandas as pd\n",
    "import numpy as np\n",
    "import time\n",
    "from datetime import datetime, timedelta\n",
    "from bisect import insort_left,insort_right\n",
    "from tabulate import tabulate\n",
    "from random import randint"
   ]
  },
  {
   "cell_type": "code",
   "execution_count": 2,
   "id": "49595e97-aff3-4721-8b93-5c840228c37d",
   "metadata": {},
   "outputs": [],
   "source": [
    "class Job_b:\n",
    "    def __init__(self, job_id, release, processing,expected,CV, weigth,alpha=None,MBT=0):\n",
    "        # information needed for single machine: id, release, expected processing time, weigths\n",
    "        self.id = job_id\n",
    "        self.release = release\n",
    "        self.processing = processing\n",
    "        self.expected=expected\n",
    "        self.CV=CV\n",
    "        self.we=weigth\n",
    "        self.alpha_RSOS=None\n",
    "        self.alpha_DSOS=None\n",
    "        self.ta_RSOS=None\n",
    "        self.ta_DSOS=None\n",
    "        self.done_1=0\n",
    "        self.MBT=0\n",
    "        self.comp_RSOS=0\n",
    "        self.comp_DSOS=0\n"
   ]
  },
  {
   "cell_type": "code",
   "execution_count": 3,
   "id": "472ca2d2-60f4-45e7-bb3a-4e8c5785d3e8",
   "metadata": {},
   "outputs": [],
   "source": [
    "def check_arrival_time(jobs,start_time, last_check_time):\n",
    "    current_time = datetime.now()\n",
    "    elapsed_seconds = (current_time - start_time).total_seconds()\n",
    "\n",
    "    new_arrivals = []\n",
    "    if last_check_time==0: \n",
    "        for idx, job in enumerate(jobs):\n",
    "            if job.release <= elapsed_seconds:\n",
    "                new_arrivals.append(idx)\n",
    "    else: \n",
    "        for idx, job in enumerate(jobs):\n",
    "        #print(\"elapsed_seconds\", elapsed_seconds, \"last_check_time\", last_check_time)\n",
    "            if job.release <= elapsed_seconds  and job.release > last_check_time:\n",
    "                new_arrivals.append(idx)\n",
    "\n",
    "    return new_arrivals"
   ]
  },
  {
   "cell_type": "code",
   "execution_count": 27,
   "id": "2d2734e6-e8d8-486a-ae94-df6b517c6e29",
   "metadata": {
    "tags": []
   },
   "outputs": [],
   "source": [
    "def run_one_both(jobs, m,alpha,time_step):\n",
    "    np.random.seed(10)\n",
    "    \n",
    "    \n",
    "    # List to store arrived jobs\n",
    "    L=[]\n",
    "    upper_time=max(job.release for job in jobs)+sum(job.expected for job in jobs)\n",
    "    machines_DSOS=np.zeros(m)\n",
    "    machines_RSOS=np.zeros(m)\n",
    "    ite=0\n",
    "\n",
    "    # Initialize last check time\n",
    "    relative_current = 0\n",
    "    # Record the starting time of the algorithm\n",
    "    start_time = datetime.now()\n",
    "\n",
    "    # Check for arrival time every 1 second\n",
    "    while sum(job.done_1 for job in jobs)<len(jobs):\n",
    "        ite=ite+1\n",
    "        new_arrivals = check_arrival_time(jobs,start_time, relative_current)\n",
    "        # Update last check time\n",
    "        relative_current = (datetime.now() - start_time).total_seconds()\n",
    "        if Printing:\n",
    "            if not new_arrivals:     \n",
    "                print(\"\\n\\n NEW ITERATION\")\n",
    "                print(\"not new\")\n",
    "        #update L if new job arrived \n",
    "        for arrived_job_idx in new_arrivals:\n",
    "            arrived_job = jobs[arrived_job_idx]\n",
    "            arrived_job.done_1=0\n",
    "            arrived_job.MBT=0\n",
    "            if Printing: \n",
    "                print(\"\\n\\n NEW ITERATION\")\n",
    "                print(f\"One job arrived at {datetime.now()} for {arrived_job.id}\")\n",
    "\n",
    "            ##MODYFY TO have 50 different cases for reproducibility\n",
    "            #if RANDOM_alpha: \n",
    "             #   arrived_job.alpha=np.random.uniform(0,1)\n",
    "            #else:\n",
    "             #   arrived_job.alpha=alpha #MODYFY BASED  ON RSOS OR DSOS\n",
    "            \n",
    "            arrived_job.alpha_RSOS=np.random.uniform(0,1)\n",
    "            #else:\n",
    "            arrived_job.alpha_DSOS=alpha #MODYFY BASED  ON RSOS OR DSOS\n",
    "            insort_right(L, arrived_job, key=lambda x: -(x.we/x.expected))\n",
    "\n",
    "            #current_time = datetime.now()\n",
    "            #relative_current=(current_time-start_time).total_seconds()\n",
    "\n",
    "    \n",
    "        #process first job in L\n",
    "        if L:\n",
    "            #print(\"list not empty\")\n",
    "            #print(\"start\",len(L),L)\n",
    "            remaning=(1-L[0].done_1)*L[0].expected/m \n",
    "            #print(\"for job::\",L[0].id,\"done:\", L[0].done_1, \"remaning:\",remaning)\n",
    "            #print(\"L\",L, len(L))\n",
    "            i=0\n",
    "            tot=0\n",
    "            while tot+remaning<=time_step and i <len(L):\n",
    "\n",
    "                #L[i].MBT=L[i].MBT+(m/L[i].expected)*((current_time+timedelta(seconds=tot+remaning)).timestamp()**2-(current_time+timedelta(seconds=tot)).timestamp()**2)#correct\n",
    "                #L[i].MBT=L[i].MBT+(m/L[i].expected)*((current_time-start_time+timedelta(seconds=tot+remaning)).total_seconds()**2-(current_time-start_time+timedelta(seconds=tot)).total_seconds()**2)\n",
    "                L[i].MBT=L[i].MBT+(m/L[i].expected)*(remaning*(2*(tot+relative_current) +remaning))/2 # (relative_curreny+tot+remaing)^2-(relative_curreny+tot)^2\n",
    "                if L[i].done_1< L[i].alpha_RSOS:\n",
    "                    L[i].ta_RSOS=relative_current+tot+(L[i].alpha_RSOS-L[i].done_1)*L[i].expected/m\n",
    "                    machine=randint(0,m-1) \n",
    "                        #machine=machines.index(min(machines))\n",
    "                    if machines_RSOS[machine]>=L[i].ta_RSOS:\n",
    "                        machines_RSOS[machine]=machines_RSOS[machine]+L[i].processing\n",
    "                    else:\n",
    "                        machines_RSOS[machine]=L[i].ta_RSOS+L[i].processing\n",
    "                    L[i].comp_RSOS=machines_RSOS[machine]\n",
    "                    \n",
    "                if L[i].done_1< L[i].alpha_DSOS:\n",
    "                    L[i].ta_DSOS=relative_current+tot+(L[i].alpha_DSOS-L[i].done_1)*L[i].expected/m\n",
    "                    minimum_load=np.min(machines_DSOS)\n",
    "                    machine=np.min(np.where(machines_DSOS==minimum_load))\n",
    "                        #machine=machines.index(min(machines))\n",
    "                    if machines_DSOS[machine]>=L[i].ta_DSOS:\n",
    "                        machines_DSOS[machine]=machines_DSOS[machine]+L[i].processing\n",
    "                    else:\n",
    "                        machines_DSOS[machine]=L[i].ta_DSOS+L[i].processing\n",
    "                    L[i].comp_DSOS=machines_DSOS[machine]\n",
    "\n",
    "                L[i].done_1=1\n",
    "                #current_time=current_time+(1-L[i].done_1)*L[i].expected/m \n",
    "                i=i+1\n",
    "                tot=tot+remaning\n",
    "                if len(L)>i:\n",
    "                    remaning=(1-L[i].done_1)*L[i].expected/m \n",
    "\n",
    "            if len(L)>i:\n",
    "                #print(\"i:\" ,i ,\"tot\",tot )\n",
    "\n",
    "                done_before=L[i].done_1    \n",
    "                L[i].done_1=L[i].done_1+(time_step-tot)/(L[i].expected/m)\n",
    "                #print('start',start,'end_time',end_time)\n",
    "                #L[i].MBT=L[i].MBT+(m/L[i].expected)*((current_time+timedelta(seconds=time_step))**2-(current_time+timedelta(seconds=tot))**2)\n",
    "                #L[i].MBT=L[i].MBT+(m/L[i].expected)*((end_time.timestamp())**2-(start.timestamp())**2)#correct\n",
    "                #print(\"MBT\", L[i].id,\"before\",L[i].MBT,\"summed\",(end_time**2-start**2),\"after\",L[i].MBT+(end_time**2-start**2))\n",
    "                if done_before< L[i].alpha_RSOS<=L[i].done_1:\n",
    "                    L[i].ta_RSOS=relative_current+tot+(L[i].alpha_RSOS-done_before)*L[i].expected/m \n",
    "                    machine=randint(0,m-1)\n",
    "                    if machines_RSOS[machine]>=L[i].ta_RSOS:\n",
    "                        machines_RSOS[machine]=machines_RSOS[machine]+L[i].processing\n",
    "                    else:\n",
    "                        machines_RSOS[machine]=L[i].ta_RSOS+L[i].processing\n",
    "                    L[i].comp_RSOS=machines_RSOS[machine]\n",
    "                if done_before< L[i].alpha_DSOS<=L[i].done_1:\n",
    "                    L[i].ta_DSOS=relative_current+tot+(L[i].alpha_DSOS-done_before)*L[i].expected/m  \n",
    "                    minimum_load=np.min(machines_DSOS)\n",
    "                    machine=np.min(np.where(machines_DSOS==minimum_load))\n",
    "                    if machines_DSOS[machine]>=L[i].ta_DSOS:\n",
    "                        machines_DSOS[machine]=machines_DSOS[machine]+L[i].processing\n",
    "                    else:\n",
    "                        machines_DSOS[machine]=L[i].ta_DSOS+L[i].processing\n",
    "                    L[i].comp_DSOS=machines_DSOS[machine]\n",
    "                    \n",
    "                    \n",
    "                    \n",
    "                L[i].MBT=L[i].MBT+(m/L[i].expected)*((relative_current+ time_step)**2-(relative_current+ tot)**2)/2\n",
    "                #print(\"END\",\"for job::\",L[0].id,\"done:\", L[0].done_1, \"remaning:\",(1-L[0].done_1)*L[0].expected/m )\n",
    "                L=L[i:]\n",
    "\n",
    "            else: \n",
    "                L=[]\n",
    "            \n",
    "\n",
    "    # Print the table\n",
    "        if Printing:\n",
    "            #check alpha_point to see if it enters other list \n",
    "            table_data = [(job.id, job.release, job.done_1, (1-job.done_1)*job.expected/m, job.MBT , job.processing, job.alpha_RSOS, job.ta_RSOS, job.alpha_DSOS, job.ta_DSOS, job.comp_RSOS, job.comp_DSOS) for job in jobs]\n",
    "            print(\"end\",len(L),L)\n",
    "            print(\"after iteration:\", ite, \"and time:\", (datetime.now() - start_time).total_seconds())\n",
    "            print(tabulate(table_data, headers=['Job ID','release', 'Done', 'Remaining', 'Mean busy time','processing','alpha_R','alpha_point_R','alpha_D','alpha_point_D','complition_R', 'complition_D']))\n",
    "            print(\"RSOS\",machines_RSOS)\n",
    "            print(\"DSOS\",machines_DSOS)\n",
    "\n",
    "\n",
    "        time.sleep(time_step)  # sleep for 1 second\n",
    "    total_comp_RSOS = sum(job.we * job.comp_RSOS for job in jobs)\n",
    "    total_comp_DSOS = sum(job.we * job.comp_DSOS for job in jobs)\n",
    "    total_LR= sum(job.we * (job.MBT-(job.CV-1)*job.expected/2) for job in jobs)\n",
    "    return total_comp_RSOS,total_comp_DSOS, total_LR"
   ]
  },
  {
   "cell_type": "code",
   "execution_count": 15,
   "id": "6c882afe-cda2-4a00-bd0a-2ce5d8a579d8",
   "metadata": {},
   "outputs": [],
   "source": [
    "jobs_data = [\n",
    "    {'job_id': '1', 'release': 4, 'processing': 5, 'expected': 4.5, 'CV':3,'weigth':4.5},\n",
    "    {'job_id': '2', 'release': 0, 'processing': 3,'expected': 3, 'CV':0,'weigth':3},\n",
    "    {'job_id': '3', 'release': 3, 'processing': 5,'expected': 1.5, 'CV':1,'weigth':1.5},\n",
    "    {'job_id': '4', 'release': 0, 'processing': 3,'expected': 3, 'CV':1,'weigth':3}\n",
    "    #{'job_id': '5', 'release': 9, 'processing': 5,'expected': 1.5, 'CV':4,'weigth':1.5},\n",
    "    #{'job_id': '6', 'release': 5, 'processing': 3,'expected': 3, 'CV':1,'weigth':3},\n",
    "    #{'job_id': '7', 'release': 7, 'processing': 5,'expected': 1.5, 'CV':4,'weigth':1.5}\n",
    "\n",
    "\n",
    "]\n",
    "#convert list to list of object\n",
    "jobs = [Job_b(**job_data) for job_data in jobs_data]"
   ]
  },
  {
   "cell_type": "code",
   "execution_count": 16,
   "id": "66bedfb9-37ac-479e-871d-e7ea48183a43",
   "metadata": {},
   "outputs": [
    {
     "data": {
      "text/plain": [
       "[0, 3, 4]"
      ]
     },
     "execution_count": 16,
     "metadata": {},
     "output_type": "execute_result"
    }
   ],
   "source": [
    "Ar=[job.release for job in jobs]\n",
    "Ar.sort()\n",
    "Ar\n",
    "list(set(Ar)) "
   ]
  },
  {
   "cell_type": "code",
   "execution_count": 29,
   "id": "1ee6b324-9cd9-49d5-9adc-71c854d7c482",
   "metadata": {},
   "outputs": [],
   "source": [
    "time_step=1\n",
    "m=3\n",
    "alpha=0.5\n",
    "RANDOM_alpha=True\n",
    "RANDOM_assigment=True\n",
    "\n",
    "Printing=True\n"
   ]
  },
  {
   "cell_type": "code",
   "execution_count": 30,
   "id": "2edf7730-e60b-4cb8-92af-d5bff2be6521",
   "metadata": {
    "tags": []
   },
   "outputs": [
    {
     "name": "stdout",
     "output_type": "stream",
     "text": [
      "\n",
      "\n",
      " NEW ITERATION\n",
      "One job arrived at 2023-11-30 15:40:20.830838 for 1\n",
      "\n",
      "\n",
      " NEW ITERATION\n",
      "One job arrived at 2023-11-30 15:40:20.830889 for 2\n",
      "end 2 [<__main__.Job_b object at 0x125b67b90>, <__main__.Job_b object at 0x125b67710>]\n",
      "after iteration: 1 and time: 0.000235\n",
      "  Job ID    release      Done    Remaining    Mean busy time    processing    alpha_R  alpha_point_R      alpha_D    alpha_point_D    complition_R    complition_D\n",
      "--------  ---------  --------  -----------  ----------------  ------------  ---------  ---------------  ---------  ---------------  --------------  --------------\n",
      "       1          0  0.666667          0.5          0.333344             5  0.771321                          0.5         0.750016               0         5.75002\n",
      "       2          0  0                 1            0                    3  0.0207519                         0.5                                0         0\n",
      "       3          3  0                 0.5          0                    5                                                                       0         0\n",
      "       4          7  0                 1            0                    3                                                                       0         0\n",
      "RSOS [0. 0. 0.]\n",
      "DSOS [5.750016 0.       0.      ]\n",
      "\n",
      "\n",
      " NEW ITERATION\n",
      "not new\n",
      "end 1 [<__main__.Job_b object at 0x125b67710>]\n",
      "after iteration: 2 and time: 1.003956\n",
      "  Job ID    release    Done    Remaining    Mean busy time    processing    alpha_R    alpha_point_R    alpha_D    alpha_point_D    complition_R    complition_D\n",
      "--------  ---------  ------  -----------  ----------------  ------------  ---------  ---------------  ---------  ---------------  --------------  --------------\n",
      "       1          0     1            0            0.751261             5  0.771321           1.16073        0.5         0.750016         6.16073         5.75002\n",
      "       2          0     0.5          0.5          0.876875             3  0.0207519          1.5245         0.5                          9.16073         0\n",
      "       3          3     0            0.5          0                    5                                                                 0               0\n",
      "       4          7     0            1            0                    3                                                                 0               0\n",
      "RSOS [0.         9.16073096 0.        ]\n",
      "DSOS [5.750016 0.       0.      ]\n",
      "\n",
      "\n",
      " NEW ITERATION\n",
      "not new\n",
      "end 0 []\n",
      "after iteration: 3 and time: 2.010697\n",
      "  Job ID    release    Done    Remaining    Mean busy time    processing    alpha_R    alpha_point_R    alpha_D    alpha_point_D    complition_R    complition_D\n",
      "--------  ---------  ------  -----------  ----------------  ------------  ---------  ---------------  ---------  ---------------  --------------  --------------\n",
      "       1          0       1          0            0.751261             5  0.771321           1.16073        0.5         0.750016         6.16073         5.75002\n",
      "       2          0       1          0            2.00687              3  0.0207519          1.5245         0.5         2.00998          9.16073         5.00998\n",
      "       3          3       0          0.5          0                    5                                                                 0               0\n",
      "       4          7       0          1            0                    3                                                                 0               0\n",
      "RSOS [0.         9.16073096 0.        ]\n",
      "DSOS [5.750016 5.00998  0.      ]\n",
      "\n",
      "\n",
      " NEW ITERATION\n",
      "One job arrived at 2023-11-30 15:40:23.849351 for 3\n",
      "end 0 []\n",
      "after iteration: 4 and time: 3.018818\n",
      "  Job ID    release    Done    Remaining    Mean busy time    processing    alpha_R    alpha_point_R    alpha_D    alpha_point_D    complition_R    complition_D\n",
      "--------  ---------  ------  -----------  ----------------  ------------  ---------  ---------------  ---------  ---------------  --------------  --------------\n",
      "       1          0       1            0          0.751261             5  0.771321           1.16073        0.5         0.750016         6.16073         5.75002\n",
      "       2          0       1            0          2.00687              3  0.0207519          1.5245         0.5         2.00998          9.16073         5.00998\n",
      "       3          3       1            0          3.26799              5  0.633648           3.33481        0.5         3.26799          8.33481         8.26799\n",
      "       4          7       0            1          0                    3                                                                 0               0\n",
      "RSOS [8.33481312 9.16073096 0.        ]\n",
      "DSOS [5.750016 5.00998  8.267989]\n",
      "\n",
      "\n",
      " NEW ITERATION\n",
      "not new\n",
      "end 0 []\n",
      "after iteration: 5 and time: 4.026055\n",
      "  Job ID    release    Done    Remaining    Mean busy time    processing    alpha_R    alpha_point_R    alpha_D    alpha_point_D    complition_R    complition_D\n",
      "--------  ---------  ------  -----------  ----------------  ------------  ---------  ---------------  ---------  ---------------  --------------  --------------\n",
      "       1          0       1            0          0.751261             5  0.771321           1.16073        0.5         0.750016         6.16073         5.75002\n",
      "       2          0       1            0          2.00687              3  0.0207519          1.5245         0.5         2.00998          9.16073         5.00998\n",
      "       3          3       1            0          3.26799              5  0.633648           3.33481        0.5         3.26799          8.33481         8.26799\n",
      "       4          7       0            1          0                    3                                                                 0               0\n",
      "RSOS [8.33481312 9.16073096 0.        ]\n",
      "DSOS [5.750016 5.00998  8.267989]\n",
      "\n",
      "\n",
      " NEW ITERATION\n",
      "not new\n",
      "end 0 []\n",
      "after iteration: 6 and time: 5.033363\n",
      "  Job ID    release    Done    Remaining    Mean busy time    processing    alpha_R    alpha_point_R    alpha_D    alpha_point_D    complition_R    complition_D\n",
      "--------  ---------  ------  -----------  ----------------  ------------  ---------  ---------------  ---------  ---------------  --------------  --------------\n",
      "       1          0       1            0          0.751261             5  0.771321           1.16073        0.5         0.750016         6.16073         5.75002\n",
      "       2          0       1            0          2.00687              3  0.0207519          1.5245         0.5         2.00998          9.16073         5.00998\n",
      "       3          3       1            0          3.26799              5  0.633648           3.33481        0.5         3.26799          8.33481         8.26799\n",
      "       4          7       0            1          0                    3                                                                 0               0\n",
      "RSOS [8.33481312 9.16073096 0.        ]\n",
      "DSOS [5.750016 5.00998  8.267989]\n",
      "\n",
      "\n",
      " NEW ITERATION\n",
      "not new\n",
      "end 0 []\n",
      "after iteration: 7 and time: 6.036867\n",
      "  Job ID    release    Done    Remaining    Mean busy time    processing    alpha_R    alpha_point_R    alpha_D    alpha_point_D    complition_R    complition_D\n",
      "--------  ---------  ------  -----------  ----------------  ------------  ---------  ---------------  ---------  ---------------  --------------  --------------\n",
      "       1          0       1            0          0.751261             5  0.771321           1.16073        0.5         0.750016         6.16073         5.75002\n",
      "       2          0       1            0          2.00687              3  0.0207519          1.5245         0.5         2.00998          9.16073         5.00998\n",
      "       3          3       1            0          3.26799              5  0.633648           3.33481        0.5         3.26799          8.33481         8.26799\n",
      "       4          7       0            1          0                    3                                                                 0               0\n",
      "RSOS [8.33481312 9.16073096 0.        ]\n",
      "DSOS [5.750016 5.00998  8.267989]\n",
      "\n",
      "\n",
      " NEW ITERATION\n",
      "One job arrived at 2023-11-30 15:40:27.875291 for 4\n",
      "end 0 []\n",
      "after iteration: 8 and time: 7.044711\n",
      "  Job ID    release    Done    Remaining    Mean busy time    processing    alpha_R    alpha_point_R    alpha_D    alpha_point_D    complition_R    complition_D\n",
      "--------  ---------  ------  -----------  ----------------  ------------  ---------  ---------------  ---------  ---------------  --------------  --------------\n",
      "       1          0       1            0          0.751261             5  0.771321           1.16073        0.5         0.750016         6.16073         5.75002\n",
      "       2          0       1            0          2.00687              3  0.0207519          1.5245         0.5         2.00998          9.16073         5.00998\n",
      "       3          3       1            0          3.26799              5  0.633648           3.33481        0.5         3.26799          8.33481         8.26799\n",
      "       4          7       1            0          7.54436              3  0.748804           7.79316        0.5         7.54436         12.1607         10.5444\n",
      "RSOS [ 8.33481312 12.16073096  0.        ]\n",
      "DSOS [ 5.750016 10.544358  8.267989]\n"
     ]
    }
   ],
   "source": [
    "jobs_after=run_one_both(jobs, m,alpha,time_step)\n"
   ]
  },
  {
   "cell_type": "code",
   "execution_count": 35,
   "id": "7699b121-0106-4954-ad80-076265425680",
   "metadata": {},
   "outputs": [
    {
     "name": "stdout",
     "output_type": "stream",
     "text": [
      "  id  release  processing  expected  CV   we  alpha_RSOS  alpha_DSOS  \\\n",
      "0  1        0           5       4.5   3  4.5    0.771321         0.5   \n",
      "1  2        0           3       3.0   0  3.0    0.020752         0.5   \n",
      "2  3        3           5       1.5   1  1.5    0.633648         0.5   \n",
      "3  4        7           3       3.0   1  3.0    0.748804         0.5   \n",
      "\n",
      "    ta_RSOS   ta_DSOS  done_1       MBT  comp_RSOS  comp_DSOS  \n",
      "0  1.160731  0.750016       1  0.751261   6.160731   5.750016  \n",
      "1  1.524502  2.009980       1  2.006865   9.160731   5.009980  \n",
      "2  3.334813  3.267989       1  3.267989   8.334813   8.267989  \n",
      "3  7.793162  7.544358       1  7.544358  12.160731  10.544358  \n"
     ]
    }
   ],
   "source": [
    "\n",
    "df= pd.DataFrame([vars(job) for job in jobs])\n",
    "df_name=f\"df_m_{m}\"\n",
    "globals()[df_name]=df\n",
    "# Print the DataFrame\n",
    "print(df_m_3)"
   ]
  },
  {
   "cell_type": "code",
   "execution_count": 345,
   "id": "19ea1590-13fd-4dbf-a9be-51170df0a3d1",
   "metadata": {},
   "outputs": [
    {
     "name": "stdout",
     "output_type": "stream",
     "text": [
      "<__main__.Job object at 0x11cf07e30>\n"
     ]
    }
   ],
   "source": [
    "print(jobs_after[0])"
   ]
  },
  {
   "cell_type": "code",
   "execution_count": 309,
   "id": "9b136747-f3bf-4d65-9369-5edb39275c12",
   "metadata": {},
   "outputs": [],
   "source": [
    "ordered_jobs = sorted(jobs, key=lambda job: job.ta)"
   ]
  },
  {
   "cell_type": "code",
   "execution_count": 34,
   "id": "a7f61366-2cd3-4cfd-8ddd-de5c2ce0e007",
   "metadata": {},
   "outputs": [
    {
     "name": "stdout",
     "output_type": "stream",
     "text": [
      "Total complition & LPR: 104.18989480764594 84.9400695 21.1863255\n"
     ]
    }
   ],
   "source": [
    "# Calculate the sum over all jobs of the product between weight and completion using list comprehension\n",
    "total_comp_R = sum(job.we * job.comp_RSOS for job in jobs)\n",
    "total_comp_D= sum(job.we * job.comp_DSOS for job in jobs)\n",
    "total_LR= sum(job.we * (job.MBT-(job.CV-1)*job.expected/2) for job in jobs)\n",
    "#total_LR= sum(job.we * job.MBT for job in jobs)\n",
    "\n",
    "print(\"Total complition & LPR:\", total_comp_R, total_comp_D, total_LR)\n"
   ]
  },
  {
   "cell_type": "code",
   "execution_count": 215,
   "id": "4e3d48bc-9cdb-47e7-962b-4363240a4339",
   "metadata": {},
   "outputs": [
    {
     "name": "stdout",
     "output_type": "stream",
     "text": [
      "List 0: [0]\n",
      "List 1: [1]\n",
      "List 2: [2]\n",
      "List 3: [3]\n",
      "List 4: [4]\n"
     ]
    }
   ],
   "source": [
    "m = 5  # Replace 5 with the desired number of lists\n",
    "\n",
    "# Create m lists\n",
    "lists = [[] for _ in range(m)]\n",
    "\n",
    "# Access the lists by index\n",
    "for i in range(m):\n",
    "    lists[i].append(i)  # Appending the index for demonstration purposes\n",
    "\n",
    "# Print the lists\n",
    "for i, inner_list in enumerate(lists):\n",
    "    print(f\"List {i}: {inner_list}\")\n"
   ]
  },
  {
   "cell_type": "code",
   "execution_count": null,
   "id": "5306ccb7-4438-4657-afc6-13d323c9bfa1",
   "metadata": {},
   "outputs": [],
   "source": [
    "#process first job in L\n",
    "    current_time = datetime.now()\n",
    "    tot=L[0].expected/m\n",
    "    i=0\n",
    "    while tot<time_step:\n",
    "        L[i].done_1=1\n",
    "        L[i].MBT=(m/L[i].expected)*((current_time+tot)^2-current_time^2)\n",
    "        i=i+1\n",
    "        tot=tot+(L[i].expected/m)"
   ]
  },
  {
   "cell_type": "code",
   "execution_count": 26,
   "id": "c7ff57c9-2695-4bca-898e-060cc324170e",
   "metadata": {},
   "outputs": [
    {
     "name": "stdout",
     "output_type": "stream",
     "text": [
      "['__class__', '__delattr__', '__dict__', '__dir__', '__doc__', '__eq__', '__format__', '__ge__', '__getattribute__', '__getstate__', '__gt__', '__hash__', '__init__', '__init_subclass__', '__le__', '__lt__', '__module__', '__ne__', '__new__', '__reduce__', '__reduce_ex__', '__repr__', '__setattr__', '__sizeof__', '__str__', '__subclasshook__', '__weakref__', 'alpha', 'complited1', 'complitedm', 'expected', 'id', 'processing', 'release', 'ta', 'we']\n"
     ]
    }
   ],
   "source": [
    "print(dir(L[0]))"
   ]
  },
  {
   "cell_type": "code",
   "execution_count": 18,
   "id": "1149e167-b50d-4014-b8fd-fdfdfda52a0c",
   "metadata": {},
   "outputs": [
    {
     "data": {
      "text/plain": [
       "3"
      ]
     },
     "execution_count": 18,
     "metadata": {},
     "output_type": "execute_result"
    }
   ],
   "source": [
    "len(L)"
   ]
  },
  {
   "cell_type": "code",
   "execution_count": 46,
   "id": "9942adff-3eda-4ddf-a444-ab7a6653c3e9",
   "metadata": {},
   "outputs": [
    {
     "data": {
      "text/plain": [
       "29.0"
      ]
     },
     "execution_count": 46,
     "metadata": {},
     "output_type": "execute_result"
    }
   ],
   "source": [
    "L[0].done_1"
   ]
  },
  {
   "cell_type": "code",
   "execution_count": 34,
   "id": "ee80dcec-2721-491f-b2a0-8bdddb56985f",
   "metadata": {},
   "outputs": [
    {
     "name": "stdout",
     "output_type": "stream",
     "text": [
      "Original Datetime: 2023-11-22 19:20:50.990968\n",
      "New Datetime (after adding 5 minutes): 2023-11-22 19:25:50.990968\n",
      "2023-11-22 19:20:50.991685\n"
     ]
    }
   ],
   "source": [
    "from datetime import datetime, timedelta\n",
    "\n",
    "# Get the current datetime\n",
    "current_datetime = datetime.now()\n",
    "\n",
    "# Add 5 minutes to the current datetime\n",
    "new_datetime = current_datetime + timedelta(minutes=5)\n",
    "\n",
    "# Print the original and new datetime values\n",
    "print(\"Original Datetime:\", current_datetime)\n",
    "print(\"New Datetime (after adding 5 minutes):\", new_datetime)\n",
    "print(datetime.now())\n"
   ]
  },
  {
   "cell_type": "code",
   "execution_count": 194,
   "id": "8af6da31-9874-4c93-a085-8006dfcc19d9",
   "metadata": {},
   "outputs": [
    {
     "data": {
      "text/plain": [
       "'5'"
      ]
     },
     "execution_count": 194,
     "metadata": {},
     "output_type": "execute_result"
    }
   ],
   "source": [
    "jobs[job.id=='5'].id"
   ]
  },
  {
   "cell_type": "code",
   "execution_count": 365,
   "id": "aec00da4-b51b-4c61-8188-9d6e4e8b9bd5",
   "metadata": {},
   "outputs": [
    {
     "data": {
      "text/plain": [
       "2"
      ]
     },
     "execution_count": 365,
     "metadata": {},
     "output_type": "execute_result"
    }
   ],
   "source": [
    "randint(0,2)"
   ]
  },
  {
   "cell_type": "code",
   "execution_count": 242,
   "id": "34128ae9-01aa-4f8b-bed0-99874b799b68",
   "metadata": {},
   "outputs": [
    {
     "data": {
      "text/plain": [
       "False"
      ]
     },
     "execution_count": 242,
     "metadata": {},
     "output_type": "execute_result"
    }
   ],
   "source": [
    "2>=3"
   ]
  },
  {
   "cell_type": "code",
   "execution_count": 245,
   "id": "7394b325-c9d4-4a0d-9a24-78d1c8e58389",
   "metadata": {},
   "outputs": [
    {
     "data": {
      "text/plain": [
       "1"
      ]
     },
     "execution_count": 245,
     "metadata": {},
     "output_type": "execute_result"
    }
   ],
   "source": [
    "machines=[2,0,0,0]\n",
    "machines.index(min(machines))"
   ]
  },
  {
   "cell_type": "code",
   "execution_count": 259,
   "id": "edb0d812-adc5-409e-967c-6ea030fad410",
   "metadata": {},
   "outputs": [
    {
     "data": {
      "text/plain": [
       "2"
      ]
     },
     "execution_count": 259,
     "metadata": {},
     "output_type": "execute_result"
    }
   ],
   "source": [
    "machines=np.zeros(5)\n",
    "machines[2:4]=-1\n",
    "minimum_load=np.min(machines)\n",
    "machine=np.min(np.where(machines==minimum_load))\n",
    "machine"
   ]
  },
  {
   "cell_type": "code",
   "execution_count": 260,
   "id": "49a46088-7985-44f9-8bb3-f0bbc664473b",
   "metadata": {},
   "outputs": [
    {
     "data": {
      "text/plain": [
       "array([ 0.,  0., -1., -1.,  0.])"
      ]
     },
     "execution_count": 260,
     "metadata": {},
     "output_type": "execute_result"
    }
   ],
   "source": [
    "machines"
   ]
  },
  {
   "cell_type": "code",
   "execution_count": null,
   "id": "cc0f1b21-0874-47d5-a320-7b45e366cd42",
   "metadata": {},
   "outputs": [],
   "source": []
  }
 ],
 "metadata": {
  "kernelspec": {
   "display_name": "Tesi_env",
   "language": "python",
   "name": "tesi_env"
  },
  "language_info": {
   "codemirror_mode": {
    "name": "ipython",
    "version": 3
   },
   "file_extension": ".py",
   "mimetype": "text/x-python",
   "name": "python",
   "nbconvert_exporter": "python",
   "pygments_lexer": "ipython3",
   "version": "3.12.0"
  }
 },
 "nbformat": 4,
 "nbformat_minor": 5
}
